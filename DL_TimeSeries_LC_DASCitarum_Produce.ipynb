{
 "cells": [
  {
   "cell_type": "code",
   "execution_count": null,
   "id": "fcdd7288",
   "metadata": {},
   "outputs": [],
   "source": [
    "import pandas as pd\n",
    "import os, math, random\n",
    "random.seed(2)\n",
    "import numpy as np\n",
    "import tensorflow as tf\n",
    "import pyrsgis\n",
    "from pyrsgis import raster\n",
    "from tensorflow.compat.v1.keras.models import load_model\n",
    "from tensorflow.keras.layers import Lambda, Reshape\n",
    "from scipy import interpolate\n",
    "import rasterio\n",
    "from tensorflow.keras.layers import Layer\n",
    "import keras.backend as K\n",
    "import matplotlib.pyplot as plt \n",
    "import tensorflow as tf\n",
    "from tensorflow.keras import optimizers\n",
    "from tensorflow.keras.utils import to_categorical\n",
    "from sklearn.model_selection import train_test_split\n",
    "from tensorflow.keras.backend import sigmoid\n",
    "from tensorflow.keras.models import Sequential, Model\n",
    "from tensorflow.keras.layers import PReLU, Concatenate, concatenate, LayerNormalization\n",
    "from tensorflow.keras.layers import Conv1D, Dropout, Dense, BatchNormalization, ReLU\n",
    "from tensorflow.keras.layers import Bidirectional, LSTM, GRU, Lambda, Reshape, Flatten, Activation\n",
    "from tensorflow.keras.layers import Input, Add, TimeDistributed, MaxPooling1D, Softmax, Multiply\n",
    "from tensorflow.compat.v1.keras.models import load_model\n",
    "import sklearn"
   ]
  },
  {
   "cell_type": "code",
   "execution_count": null,
   "id": "d212a6f9",
   "metadata": {
    "scrolled": true
   },
   "outputs": [],
   "source": [
    "# model = load_model('D:/Wiltang_2022/Paper_Data_Codes/Saved_Model/LC_Multivariate_Wonosobo_Encoder_ver01.h5', \n",
    "#                    custom_objects={'InstanceNormalization':InstanceNormalization})\n",
    "\n",
    "# model = load_model('D:/DL_DASCitarum/Spasial_Vector/DAS_Citarum_Extract_Landsat/Saved_Model/LC_DAS_Citarum_exp03_stable_reducedDate.h5')\n",
    "\n",
    "# Load a new multispectral image\n",
    "ds_cbi, img_cbi  = raster.read('D:/DL_DASCitarum/Spasial_Vector/DAS_Citarum_Extract_Landsat/Wonosobo_Data/CBI_2014_2023_Wonosobo.tif')\n",
    "ds_bsi, img_bsi  = raster.read('D:/DL_DASCitarum/Spasial_Vector/DAS_Citarum_Extract_Landsat/Wonosobo_Data/BSI_2014_2023_Wonosobo.tif')\n",
    "ds_evi2, img_evi2  = raster.read('D:/DL_DASCitarum/Spasial_Vector/DAS_Citarum_Extract_Landsat/Wonosobo_Data/EVI2_2014_2023_Wonosobo.tif')\n",
    "ds_mndwi, img_mndwi  = raster.read('D:/DL_DASCitarum/Spasial_Vector/DAS_Citarum_Extract_Landsat/Wonosobo_Data/MNDWI_2014_2023_Wonosobo.tif')\n",
    "ds_msavi, img_msavi  = raster.read('D:/DL_DASCitarum/Spasial_Vector/DAS_Citarum_Extract_Landsat/Wonosobo_Data/MSAVI_2014_2023_Wonosobo.tif')\n",
    "ds_nbr, img_nbr  = raster.read('D:/DL_DASCitarum/Spasial_Vector/DAS_Citarum_Extract_Landsat/Wonosobo_Data/NBR_2014_2023_Wonosobo.tif')\n",
    "ds_ndvi, img_ndvi  = raster.read('D:/DL_DASCitarum/Spasial_Vector/DAS_Citarum_Extract_Landsat/Wonosobo_Data/NDVI_2014_2023_Wonosobo.tif')\n",
    "\n",
    "print(img_cbi.shape)\n",
    "print(img_bsi.shape)\n",
    "print(img_evi2.shape)\n",
    "print(img_mndwi.shape)\n",
    "print(img_msavi.shape)\n",
    "print(img_nbr.shape)\n",
    "print(img_ndvi.shape)"
   ]
  },
  {
   "cell_type": "code",
   "execution_count": null,
   "id": "f7250b4b",
   "metadata": {},
   "outputs": [],
   "source": [
    "img_cbi_reshape = img_cbi.reshape(img_cbi.shape[0],(img_cbi.shape[1]*img_cbi.shape[2])).T\n",
    "img_bsi_reshape = img_bsi.reshape(img_bsi.shape[0],(img_bsi.shape[1]*img_bsi.shape[2])).T\n",
    "img_evi2_reshape = img_evi2.reshape(img_evi2.shape[0],(img_evi2.shape[1]*img_evi2.shape[2])).T\n",
    "img_mndwi_reshape = img_mndwi.reshape(img_mndwi.shape[0],(img_mndwi.shape[1]*img_mndwi.shape[2])).T\n",
    "img_msavi_reshape = img_msavi.reshape(img_msavi.shape[0],(img_msavi.shape[1]*img_msavi.shape[2])).T\n",
    "img_nbr_reshape = img_nbr.reshape(img_nbr.shape[0],(img_nbr.shape[1]*img_nbr.shape[2])).T\n",
    "img_ndvi_reshape = img_ndvi.reshape(img_ndvi.shape[0],(img_ndvi.shape[1]*img_ndvi.shape[2])).T"
   ]
  },
  {
   "cell_type": "code",
   "execution_count": null,
   "id": "3b859b7f",
   "metadata": {},
   "outputs": [],
   "source": [
    "print(img_cbi_reshape.shape)\n",
    "print(img_bsi_reshape.shape)\n",
    "print(img_evi2_reshape.shape)\n",
    "print(img_mndwi_reshape.shape)\n",
    "print(img_msavi_reshape.shape)\n",
    "print(img_nbr_reshape.shape)\n",
    "print(img_ndvi_reshape.shape)"
   ]
  },
  {
   "cell_type": "code",
   "execution_count": null,
   "id": "1f677718",
   "metadata": {},
   "outputs": [],
   "source": [
    "print('Number of nan CBI before int:', len(~np.isnan(img_cbi_reshape)))\n",
    "print('Number of nan BSI before int:', len(~np.isnan(img_bsi_reshape)))\n",
    "print('Number of nan EVI2 before int:', len(~np.isnan(img_evi2_reshape)))\n",
    "print('Number of nan MNDWI before int:', len(~np.isnan(img_mndwi_reshape)))\n",
    "print('Number of nan MSAVI before int:', len(~np.isnan(img_msavi_reshape)))\n",
    "print('Number of nan NBR before int:', len(~np.isnan(img_nbr_reshape)))\n",
    "print('Number of nan NDVI before int:', len(~np.isnan(img_ndvi_reshape)))"
   ]
  },
  {
   "cell_type": "code",
   "execution_count": null,
   "id": "57379fd8",
   "metadata": {},
   "outputs": [],
   "source": [
    "img_cbi_reshape_pd = pd.DataFrame(img_cbi_reshape)\n",
    "img_bsi_reshape_pd = pd.DataFrame(img_bsi_reshape)\n",
    "img_evi2_reshape_pd = pd.DataFrame(img_ndvi_reshape)\n",
    "img_mndwi_reshape_pd = pd.DataFrame(img_mndwi_reshape)\n",
    "img_msavi_reshape_pd = pd.DataFrame(img_msavi_reshape)\n",
    "img_nbr_reshape_pd = pd.DataFrame(img_nbr_reshape)\n",
    "img_ndvi_reshape_pd = pd.DataFrame(img_ndvi_reshape)"
   ]
  },
  {
   "cell_type": "code",
   "execution_count": null,
   "id": "ff7a7103",
   "metadata": {},
   "outputs": [],
   "source": [
    "%%time\n",
    "#interpolate NaN values for each row\n",
    "\n",
    "img_cbi_reshape_pd = pd.DataFrame(img_cbi_reshape)\n",
    "img_bsi_reshape_pd = pd.DataFrame(img_bsi_reshape)\n",
    "img_evi2_reshape_pd = pd.DataFrame(img_evi2_reshape)\n",
    "img_mndwi_reshape_pd = pd.DataFrame(img_mndwi_reshape)\n",
    "img_msavi_reshape_pd = pd.DataFrame(img_msavi_reshape)\n",
    "img_nbr_reshape_pd = pd.DataFrame(img_nbr_reshape)\n",
    "img_ndvi_reshape_pd = pd.DataFrame(img_ndvi_reshape)\n",
    "\n",
    "img_cbi_reshape_pd.astype(float)\n",
    "img_bsi_reshape_pd.astype(float)\n",
    "img_evi2_reshape_pd.astype(float)\n",
    "img_mndwi_reshape_pd.astype(float)\n",
    "img_msavi_reshape_pd.astype(float) \n",
    "img_nbr_reshape_pd.astype(float)\n",
    "img_ndvi_reshape_pd.astype(float)\n",
    "\n",
    "img_cbi_int = img_cbi_reshape_pd.interpolate(method='spline', order=3, limit_direction='both', axis=1)\n",
    "img_bsi_int = img_bsi_reshape_pd.interpolate(method='spline', order=3, limit_direction='both', axis=1)\n",
    "img_evi2_int = img_evi2_reshape_pd.interpolate(method='spline', order=3, limit_direction='both', axis=1)\n",
    "img_mndwi_int = img_mndwi_reshape_pd.interpolate(method='spline', order=3, limit_direction='both', axis=1)\n",
    "img_msavi_int = img_msavi_reshape_pd.interpolate(method='spline', order=3, limit_direction='both', axis=1)\n",
    "img_nbr_int = img_nbr_reshape_pd.interpolate(method='spline', order=3, limit_direction='both', axis=1)\n",
    "img_ndvi_int = img_ndvi_reshape_pd.interpolate(method='spline', order=3, limit_direction='both', axis=1)\n",
    "\n",
    "\n",
    "#check NaN Values\n",
    "print('Number of nan CBI after int:', img_cbi_int.isnull().sum().sum())\n",
    "print('Number of nan BSI after int:', img_bsi_int.isnull().sum().sum())\n",
    "print('Number of nan EVI2 after int:', img_evi2_int.isnull().sum().sum())\n",
    "print('Number of nan MNDWI after int:', img_mndwi_int.isnull().sum().sum())\n",
    "print('Number of nan MSAVI after int:', img_msavi_int.isnull().sum().sum())\n",
    "print('Number of nan NBR after int:', img_nbr_int.isnull().sum().sum())\n",
    "print('Number of nan NDVI after int:', img_ndvi_int.isnull().sum().sum())"
   ]
  },
  {
   "cell_type": "code",
   "execution_count": null,
   "id": "5e6bf07b",
   "metadata": {},
   "outputs": [],
   "source": [
    "img_cbi_int = np.asarray(img_cbi_int).astype(np.float64)\n",
    "img_bsi_int = np.asarray(img_bsi_int).astype(np.float64)\n",
    "img_evi2_int = np.asarray(img_evi2_int).astype(np.float64)\n",
    "img_mndwi_int = np.asarray(img_mndwi_int).astype(np.float64)\n",
    "img_msavi_int = np.asarray(img_msavi_int).astype(np.float64)\n",
    "img_nbr_int = np.asarray(img_nbr_int).astype(np.float64)\n",
    "img_ndvi_int = np.asarray(img_ndvi_int).astype(np.float64)\n",
    "\n",
    "comb_all = np.stack((img_cbi_int, img_bsi_int, img_evi2_int,img_mndwi_int,img_msavi_int,\n",
    "                    img_nbr_int,img_ndvi_int), axis=1)\n",
    "comb_all_reshape = comb_all.reshape(comb_all.shape[0], comb_all.shape[2], comb_all.shape[1])\n",
    "\n",
    "print(comb_all.shape)\n",
    "print(comb_all_reshape.shape)"
   ]
  },
  {
   "cell_type": "code",
   "execution_count": null,
   "id": "2ab4665f",
   "metadata": {},
   "outputs": [],
   "source": [
    "%%time\n",
    "pred_ = model.predict(comb_all_reshape)\n",
    "agri_pred_ = pred_.argmax(axis=1)\n",
    "img_pred = np.reshape(agri_pred_,(ds_ndvi.RasterYSize, ds_ndvi.RasterXSize))\n",
    "print(img_pred.shape)\n",
    "print(img_pred)\n",
    "print(img_pred.min())\n",
    "print(img_pred.max())\n",
    "\n",
    "outFile = r'D:/Data_DBS/Citarum/Wonosobo_LCPred_ver03_stable_reducedDate.tif'\n",
    "raster.export(img_pred, ds_ndvi, filename=outFile, dtype='int')"
   ]
  },
  {
   "cell_type": "code",
   "execution_count": null,
   "id": "e81b8007",
   "metadata": {},
   "outputs": [],
   "source": []
  }
 ],
 "metadata": {
  "kernelspec": {
   "display_name": "TensorFlow GPU",
   "language": "python",
   "name": "tf-gpu"
  },
  "language_info": {
   "codemirror_mode": {
    "name": "ipython",
    "version": 3
   },
   "file_extension": ".py",
   "mimetype": "text/x-python",
   "name": "python",
   "nbconvert_exporter": "python",
   "pygments_lexer": "ipython3",
   "version": "3.9.23"
  }
 },
 "nbformat": 4,
 "nbformat_minor": 5
}
